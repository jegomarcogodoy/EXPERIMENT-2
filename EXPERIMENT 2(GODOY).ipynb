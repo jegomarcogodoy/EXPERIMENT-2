{
 "cells": [
  {
   "cell_type": "markdown",
   "id": "6b07dfbd-87f7-4ac3-8a2c-3a48444c5aee",
   "metadata": {},
   "source": [
    "EXPERIMENT 2 | JEGO MARCO E. GODOY | 2ECE-A"
   ]
  },
  {
   "cell_type": "markdown",
   "id": "45867390-8d3d-49e0-ade5-1395f5017118",
   "metadata": {},
   "source": [
    "NORMALIZATION PROBLEM"
   ]
  },
  {
   "cell_type": "code",
   "execution_count": 5,
   "id": "6b71902e-0dac-4e37-aad2-b85b0d0674ae",
   "metadata": {},
   "outputs": [],
   "source": [
    "import numpy as np"
   ]
  },
  {
   "cell_type": "code",
   "execution_count": 4,
   "id": "fe9a42b4-1684-4bb5-a83d-e5592d36b6dd",
   "metadata": {},
   "outputs": [
    {
     "name": "stdout",
     "output_type": "stream",
     "text": [
      "[[-0.34229424  0.57639036 -0.9755033   1.01445586 -1.02345348]\n",
      " [ 0.88058162  0.99051101 -0.93278058  0.16946968  0.18351819]\n",
      " [ 1.04650645  1.9835006   1.0991913  -1.08500802  0.09467688]\n",
      " [-0.9943937   0.59340783 -1.54494164 -1.50859446 -0.66526793]\n",
      " [-1.25840337  1.28237277 -0.58222662 -0.17091874  1.16920351]]\n"
     ]
    }
   ],
   "source": [
    "#Generate 5x5 array with random numbers\n",
    "x = np.random.random([5,5])\n",
    "\n",
    "#Getting the mean and standard deviation of the array\n",
    "y = x.mean()\n",
    "z = x.std()\n",
    "\n",
    "#normalized x\n",
    "normx = (x-y)/z\n",
    "print(normx)"
   ]
  },
  {
   "cell_type": "markdown",
   "id": "2908c08f-7085-4f52-9579-8575370f29d4",
   "metadata": {},
   "source": [
    "DIVISIBLE BY 3 PROBLEM"
   ]
  },
  {
   "cell_type": "code",
   "execution_count": 8,
   "id": "5ae39628-8274-4334-9847-a5a046bdd28a",
   "metadata": {},
   "outputs": [
    {
     "name": "stdout",
     "output_type": "stream",
     "text": [
      "Array of squares: \n",
      " [[    1     4     9    16    25    36    49    64    81   100]\n",
      " [  121   144   169   196   225   256   289   324   361   400]\n",
      " [  441   484   529   576   625   676   729   784   841   900]\n",
      " [  961  1024  1089  1156  1225  1296  1369  1444  1521  1600]\n",
      " [ 1681  1764  1849  1936  2025  2116  2209  2304  2401  2500]\n",
      " [ 2601  2704  2809  2916  3025  3136  3249  3364  3481  3600]\n",
      " [ 3721  3844  3969  4096  4225  4356  4489  4624  4761  4900]\n",
      " [ 5041  5184  5329  5476  5625  5776  5929  6084  6241  6400]\n",
      " [ 6561  6724  6889  7056  7225  7396  7569  7744  7921  8100]\n",
      " [ 8281  8464  8649  8836  9025  9216  9409  9604  9801 10000]]\n",
      "\n",
      "Elements divisible by 3: \n",
      " [[   9   36   81  144  225  324  441  576  729  900 1089]\n",
      " [1296 1521 1764 2025 2304 2601 2916 3249 3600 3969 4356]\n",
      " [4761 5184 5625 6084 6561 7056 7569 8100 8649 9216 9801]]\n"
     ]
    }
   ],
   "source": [
    "# Generate the 10x10 array with the square of the first 100 pos integers\n",
    "d = np.arange(1,101).reshape(10,10)**2\n",
    "# Find all elements divisible by 3\n",
    "by3 = d[d % 3 == 0].reshape(3,11)\n",
    "\n",
    "# Print the 10x10 array and the elements divisble by 3\n",
    "print(\"Array of squares: \\n\", d)\n",
    "print(\"\\nElements divisible by 3: \\n\", by3)"
   ]
  },
  {
   "cell_type": "markdown",
   "id": "7aa464e6-0365-464a-8f65-2df0466ed0ce",
   "metadata": {},
   "source": [
    "THANK YOU!"
   ]
  }
 ],
 "metadata": {
  "kernelspec": {
   "display_name": "Python [conda env:base] *",
   "language": "python",
   "name": "conda-base-py"
  },
  "language_info": {
   "codemirror_mode": {
    "name": "ipython",
    "version": 3
   },
   "file_extension": ".py",
   "mimetype": "text/x-python",
   "name": "python",
   "nbconvert_exporter": "python",
   "pygments_lexer": "ipython3",
   "version": "3.13.5"
  }
 },
 "nbformat": 4,
 "nbformat_minor": 5
}
